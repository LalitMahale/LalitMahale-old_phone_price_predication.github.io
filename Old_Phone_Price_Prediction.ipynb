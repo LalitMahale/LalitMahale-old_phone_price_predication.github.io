{
 "cells": [
  {
   "cell_type": "code",
   "execution_count": null,
   "id": "dfd361d4",
   "metadata": {},
   "outputs": [],
   "source": []
  },
  {
   "cell_type": "code",
   "execution_count": 2,
   "id": "e8587092",
   "metadata": {},
   "outputs": [],
   "source": [
    "import pandas as pd\n",
    "import numpy as np\n",
    "import matplotlib.pyplot as plt\n",
    "import seaborn as sns\n",
    "import warnings\n",
    "warnings.filterwarnings(\"ignore\")\n"
   ]
  },
  {
   "cell_type": "code",
   "execution_count": 3,
   "id": "c02bccc5",
   "metadata": {},
   "outputs": [],
   "source": [
    "df = pd.read_csv(\"used_device_data.csv\")"
   ]
  },
  {
   "cell_type": "code",
   "execution_count": 4,
   "id": "49514da0",
   "metadata": {},
   "outputs": [
    {
     "data": {
      "text/html": [
       "<div>\n",
       "<style scoped>\n",
       "    .dataframe tbody tr th:only-of-type {\n",
       "        vertical-align: middle;\n",
       "    }\n",
       "\n",
       "    .dataframe tbody tr th {\n",
       "        vertical-align: top;\n",
       "    }\n",
       "\n",
       "    .dataframe thead th {\n",
       "        text-align: right;\n",
       "    }\n",
       "</style>\n",
       "<table border=\"1\" class=\"dataframe\">\n",
       "  <thead>\n",
       "    <tr style=\"text-align: right;\">\n",
       "      <th></th>\n",
       "      <th>device_brand</th>\n",
       "      <th>os</th>\n",
       "      <th>screen_size</th>\n",
       "      <th>4g</th>\n",
       "      <th>5g</th>\n",
       "      <th>rear_camera_mp</th>\n",
       "      <th>front_camera_mp</th>\n",
       "      <th>internal_memory</th>\n",
       "      <th>ram</th>\n",
       "      <th>battery</th>\n",
       "      <th>weight</th>\n",
       "      <th>release_year</th>\n",
       "      <th>days_used</th>\n",
       "      <th>normalized_used_price</th>\n",
       "      <th>normalized_new_price</th>\n",
       "    </tr>\n",
       "  </thead>\n",
       "  <tbody>\n",
       "    <tr>\n",
       "      <th>0</th>\n",
       "      <td>Honor</td>\n",
       "      <td>Android</td>\n",
       "      <td>14.50</td>\n",
       "      <td>yes</td>\n",
       "      <td>no</td>\n",
       "      <td>13.0</td>\n",
       "      <td>5.0</td>\n",
       "      <td>64.0</td>\n",
       "      <td>3.0</td>\n",
       "      <td>3020.0</td>\n",
       "      <td>146.0</td>\n",
       "      <td>2020</td>\n",
       "      <td>127</td>\n",
       "      <td>4.307572</td>\n",
       "      <td>4.715100</td>\n",
       "    </tr>\n",
       "    <tr>\n",
       "      <th>1</th>\n",
       "      <td>Honor</td>\n",
       "      <td>Android</td>\n",
       "      <td>17.30</td>\n",
       "      <td>yes</td>\n",
       "      <td>yes</td>\n",
       "      <td>13.0</td>\n",
       "      <td>16.0</td>\n",
       "      <td>128.0</td>\n",
       "      <td>8.0</td>\n",
       "      <td>4300.0</td>\n",
       "      <td>213.0</td>\n",
       "      <td>2020</td>\n",
       "      <td>325</td>\n",
       "      <td>5.162097</td>\n",
       "      <td>5.519018</td>\n",
       "    </tr>\n",
       "    <tr>\n",
       "      <th>2</th>\n",
       "      <td>Honor</td>\n",
       "      <td>Android</td>\n",
       "      <td>16.69</td>\n",
       "      <td>yes</td>\n",
       "      <td>yes</td>\n",
       "      <td>13.0</td>\n",
       "      <td>8.0</td>\n",
       "      <td>128.0</td>\n",
       "      <td>8.0</td>\n",
       "      <td>4200.0</td>\n",
       "      <td>213.0</td>\n",
       "      <td>2020</td>\n",
       "      <td>162</td>\n",
       "      <td>5.111084</td>\n",
       "      <td>5.884631</td>\n",
       "    </tr>\n",
       "    <tr>\n",
       "      <th>3</th>\n",
       "      <td>Honor</td>\n",
       "      <td>Android</td>\n",
       "      <td>25.50</td>\n",
       "      <td>yes</td>\n",
       "      <td>yes</td>\n",
       "      <td>13.0</td>\n",
       "      <td>8.0</td>\n",
       "      <td>64.0</td>\n",
       "      <td>6.0</td>\n",
       "      <td>7250.0</td>\n",
       "      <td>480.0</td>\n",
       "      <td>2020</td>\n",
       "      <td>345</td>\n",
       "      <td>5.135387</td>\n",
       "      <td>5.630961</td>\n",
       "    </tr>\n",
       "    <tr>\n",
       "      <th>4</th>\n",
       "      <td>Honor</td>\n",
       "      <td>Android</td>\n",
       "      <td>15.32</td>\n",
       "      <td>yes</td>\n",
       "      <td>no</td>\n",
       "      <td>13.0</td>\n",
       "      <td>8.0</td>\n",
       "      <td>64.0</td>\n",
       "      <td>3.0</td>\n",
       "      <td>5000.0</td>\n",
       "      <td>185.0</td>\n",
       "      <td>2020</td>\n",
       "      <td>293</td>\n",
       "      <td>4.389995</td>\n",
       "      <td>4.947837</td>\n",
       "    </tr>\n",
       "  </tbody>\n",
       "</table>\n",
       "</div>"
      ],
      "text/plain": [
       "  device_brand       os  screen_size   4g   5g  rear_camera_mp  \\\n",
       "0        Honor  Android        14.50  yes   no            13.0   \n",
       "1        Honor  Android        17.30  yes  yes            13.0   \n",
       "2        Honor  Android        16.69  yes  yes            13.0   \n",
       "3        Honor  Android        25.50  yes  yes            13.0   \n",
       "4        Honor  Android        15.32  yes   no            13.0   \n",
       "\n",
       "   front_camera_mp  internal_memory  ram  battery  weight  release_year  \\\n",
       "0              5.0             64.0  3.0   3020.0   146.0          2020   \n",
       "1             16.0            128.0  8.0   4300.0   213.0          2020   \n",
       "2              8.0            128.0  8.0   4200.0   213.0          2020   \n",
       "3              8.0             64.0  6.0   7250.0   480.0          2020   \n",
       "4              8.0             64.0  3.0   5000.0   185.0          2020   \n",
       "\n",
       "   days_used  normalized_used_price  normalized_new_price  \n",
       "0        127               4.307572              4.715100  \n",
       "1        325               5.162097              5.519018  \n",
       "2        162               5.111084              5.884631  \n",
       "3        345               5.135387              5.630961  \n",
       "4        293               4.389995              4.947837  "
      ]
     },
     "execution_count": 4,
     "metadata": {},
     "output_type": "execute_result"
    }
   ],
   "source": [
    "df.head()"
   ]
  },
  {
   "cell_type": "code",
   "execution_count": 5,
   "id": "add03b70",
   "metadata": {},
   "outputs": [
    {
     "name": "stdout",
     "output_type": "stream",
     "text": [
      "Total Rows in dataset : 3454\n",
      "Total Columsn in dataset : 15\n"
     ]
    }
   ],
   "source": [
    "print(f\"Total Rows in dataset : {df.shape[0]}\\nTotal Columsn in dataset : {df.shape[1]}\")"
   ]
  },
  {
   "cell_type": "code",
   "execution_count": 6,
   "id": "93e33472",
   "metadata": {},
   "outputs": [
    {
     "data": {
      "text/plain": [
       "Index(['device_brand', 'os', 'screen_size', '4g', '5g', 'rear_camera_mp',\n",
       "       'front_camera_mp', 'internal_memory', 'ram', 'battery', 'weight',\n",
       "       'release_year', 'days_used', 'normalized_used_price',\n",
       "       'normalized_new_price'],\n",
       "      dtype='object')"
      ]
     },
     "execution_count": 6,
     "metadata": {},
     "output_type": "execute_result"
    }
   ],
   "source": [
    "# All columns\n",
    "df.columns"
   ]
  },
  {
   "cell_type": "code",
   "execution_count": 7,
   "id": "ddb6c056",
   "metadata": {},
   "outputs": [
    {
     "name": "stdout",
     "output_type": "stream",
     "text": [
      "<class 'pandas.core.frame.DataFrame'>\n",
      "RangeIndex: 3454 entries, 0 to 3453\n",
      "Data columns (total 15 columns):\n",
      " #   Column                 Non-Null Count  Dtype  \n",
      "---  ------                 --------------  -----  \n",
      " 0   device_brand           3454 non-null   object \n",
      " 1   os                     3454 non-null   object \n",
      " 2   screen_size            3454 non-null   float64\n",
      " 3   4g                     3454 non-null   object \n",
      " 4   5g                     3454 non-null   object \n",
      " 5   rear_camera_mp         3275 non-null   float64\n",
      " 6   front_camera_mp        3452 non-null   float64\n",
      " 7   internal_memory        3450 non-null   float64\n",
      " 8   ram                    3450 non-null   float64\n",
      " 9   battery                3448 non-null   float64\n",
      " 10  weight                 3447 non-null   float64\n",
      " 11  release_year           3454 non-null   int64  \n",
      " 12  days_used              3454 non-null   int64  \n",
      " 13  normalized_used_price  3454 non-null   float64\n",
      " 14  normalized_new_price   3454 non-null   float64\n",
      "dtypes: float64(9), int64(2), object(4)\n",
      "memory usage: 404.9+ KB\n"
     ]
    }
   ],
   "source": [
    "df.info()"
   ]
  },
  {
   "cell_type": "markdown",
   "id": "752eb694",
   "metadata": {},
   "source": [
    "##  Check Null values\n"
   ]
  },
  {
   "cell_type": "code",
   "execution_count": 8,
   "id": "362279ad",
   "metadata": {},
   "outputs": [
    {
     "data": {
      "text/plain": [
       "device_brand               0\n",
       "os                         0\n",
       "screen_size                0\n",
       "4g                         0\n",
       "5g                         0\n",
       "rear_camera_mp           179\n",
       "front_camera_mp            2\n",
       "internal_memory            4\n",
       "ram                        4\n",
       "battery                    6\n",
       "weight                     7\n",
       "release_year               0\n",
       "days_used                  0\n",
       "normalized_used_price      0\n",
       "normalized_new_price       0\n",
       "dtype: int64"
      ]
     },
     "execution_count": 8,
     "metadata": {},
     "output_type": "execute_result"
    }
   ],
   "source": [
    "df.isnull().sum()"
   ]
  },
  {
   "cell_type": "code",
   "execution_count": 16,
   "id": "b2ce8274",
   "metadata": {},
   "outputs": [
    {
     "data": {
      "image/png": "[encoded data removed]",
      "text/plain": [
       "<Figure size 400x400 with 1 Axes>"
      ]
     },
     "metadata": {},
     "output_type": "display_data"
    }
   ],
   "source": [
    "plt.figure(figsize = (4,4))\n",
    "sns.heatmap(df.isnull(),yticklabels=False,cbar=False, cmap=\"viridis\")\n",
    "plt.xticks(rotation = 90)\n",
    "plt.show()"
   ]
  },
  {
   "cell_type": "code",
   "execution_count": 20,
   "id": "f204774d",
   "metadata": {},
   "outputs": [
    {
     "data": {
      "text/plain": [
       "0.3898861223701988"
      ]
     },
     "execution_count": 20,
     "metadata": {},
     "output_type": "execute_result"
    }
   ],
   "source": [
    "# total percetage of missing values\n",
    "per_miss_value = df.isnull().sum().sum()/(df.shape[0]*df.shape[1]) *100\n",
    "per_miss_value"
   ]
  },
  {
   "cell_type": "code",
   "execution_count": 26,
   "id": "66f79c51",
   "metadata": {},
   "outputs": [],
   "source": [
    "# misssing value are too less so we drop this \n",
    "df = df.dropna()"
   ]
  },
  {
   "cell_type": "code",
   "execution_count": 30,
   "id": "2ff93623",
   "metadata": {},
   "outputs": [
    {
     "data": {
      "text/plain": [
       "[]"
      ]
     },
     "execution_count": 30,
     "metadata": {},
     "output_type": "execute_result"
    },
    {
     "data": {
      "image/png": "[encoded data removed]",
      "text/plain": [
       "<Figure size 400x400 with 1 Axes>"
      ]
     },
     "metadata": {},
     "output_type": "display_data"
    }
   ],
   "source": [
    "#After drap all values\n",
    "plt.figure(figsize=(4,4))\n",
    "sns.heatmap(df.isnull(),yticklabels=False,cmap=\"viridis\", cbar=False)\n",
    "plt.plot()"
   ]
  },
  {
   "cell_type": "markdown",
   "id": "32d08977",
   "metadata": {},
   "source": [
    "# Check Duplicate values"
   ]
  },
  {
   "cell_type": "code",
   "execution_count": 31,
   "id": "0dba259c",
   "metadata": {},
   "outputs": [
    {
     "data": {
      "text/plain": [
       "0"
      ]
     },
     "execution_count": 31,
     "metadata": {},
     "output_type": "execute_result"
    }
   ],
   "source": [
    "df.duplicated().sum()"
   ]
  },
  {
   "cell_type": "markdown",
   "id": "50f0c9e4",
   "metadata": {},
   "source": [
    "### check 4G and 5G "
   ]
  },
  {
   "cell_type": "code",
   "execution_count": 32,
   "id": "cf1b4689",
   "metadata": {},
   "outputs": [
    {
     "data": {
      "text/plain": [
       "yes    2148\n",
       "no     1105\n",
       "Name: 4g, dtype: int64"
      ]
     },
     "execution_count": 32,
     "metadata": {},
     "output_type": "execute_result"
    }
   ],
   "source": [
    "df[\"4g\"].value_counts()"
   ]
  },
  {
   "cell_type": "code",
   "execution_count": 33,
   "id": "d924c00a",
   "metadata": {},
   "outputs": [
    {
     "data": {
      "text/plain": [
       "no     3168\n",
       "yes      85\n",
       "Name: 5g, dtype: int64"
      ]
     },
     "execution_count": 33,
     "metadata": {},
     "output_type": "execute_result"
    }
   ],
   "source": [
    "df[\"5g\"].value_counts()"
   ]
  },
  {
   "cell_type": "code",
   "execution_count": 34,
   "id": "63831187",
   "metadata": {},
   "outputs": [],
   "source": [
    "# lets change yes = 1 and no = 0\n",
    "df[\"4g\"] = df[\"4g\"].map({\"yes\":1,\"no\":0})\n",
    "df[\"5g\"] = df[\"5g\"].map({\"yes\":1,\"no\":0})"
   ]
  },
  {
   "cell_type": "code",
   "execution_count": 35,
   "id": "e3f10a85",
   "metadata": {},
   "outputs": [
    {
     "data": {
      "text/html": [
       "<div>\n",
       "<style scoped>\n",
       "    .dataframe tbody tr th:only-of-type {\n",
       "        vertical-align: middle;\n",
       "    }\n",
       "\n",
       "    .dataframe tbody tr th {\n",
       "        vertical-align: top;\n",
       "    }\n",
       "\n",
       "    .dataframe thead th {\n",
       "        text-align: right;\n",
       "    }\n",
       "</style>\n",
       "<table border=\"1\" class=\"dataframe\">\n",
       "  <thead>\n",
       "    <tr style=\"text-align: right;\">\n",
       "      <th></th>\n",
       "      <th>device_brand</th>\n",
       "      <th>os</th>\n",
       "      <th>screen_size</th>\n",
       "      <th>4g</th>\n",
       "      <th>5g</th>\n",
       "      <th>rear_camera_mp</th>\n",
       "      <th>front_camera_mp</th>\n",
       "      <th>internal_memory</th>\n",
       "      <th>ram</th>\n",
       "      <th>battery</th>\n",
       "      <th>weight</th>\n",
       "      <th>release_year</th>\n",
       "      <th>days_used</th>\n",
       "      <th>normalized_used_price</th>\n",
       "      <th>normalized_new_price</th>\n",
       "    </tr>\n",
       "  </thead>\n",
       "  <tbody>\n",
       "    <tr>\n",
       "      <th>0</th>\n",
       "      <td>Honor</td>\n",
       "      <td>Android</td>\n",
       "      <td>14.50</td>\n",
       "      <td>1</td>\n",
       "      <td>0</td>\n",
       "      <td>13.0</td>\n",
       "      <td>5.0</td>\n",
       "      <td>64.0</td>\n",
       "      <td>3.0</td>\n",
       "      <td>3020.0</td>\n",
       "      <td>146.0</td>\n",
       "      <td>2020</td>\n",
       "      <td>127</td>\n",
       "      <td>4.307572</td>\n",
       "      <td>4.715100</td>\n",
       "    </tr>\n",
       "    <tr>\n",
       "      <th>1</th>\n",
       "      <td>Honor</td>\n",
       "      <td>Android</td>\n",
       "      <td>17.30</td>\n",
       "      <td>1</td>\n",
       "      <td>1</td>\n",
       "      <td>13.0</td>\n",
       "      <td>16.0</td>\n",
       "      <td>128.0</td>\n",
       "      <td>8.0</td>\n",
       "      <td>4300.0</td>\n",
       "      <td>213.0</td>\n",
       "      <td>2020</td>\n",
       "      <td>325</td>\n",
       "      <td>5.162097</td>\n",
       "      <td>5.519018</td>\n",
       "    </tr>\n",
       "    <tr>\n",
       "      <th>2</th>\n",
       "      <td>Honor</td>\n",
       "      <td>Android</td>\n",
       "      <td>16.69</td>\n",
       "      <td>1</td>\n",
       "      <td>1</td>\n",
       "      <td>13.0</td>\n",
       "      <td>8.0</td>\n",
       "      <td>128.0</td>\n",
       "      <td>8.0</td>\n",
       "      <td>4200.0</td>\n",
       "      <td>213.0</td>\n",
       "      <td>2020</td>\n",
       "      <td>162</td>\n",
       "      <td>5.111084</td>\n",
       "      <td>5.884631</td>\n",
       "    </tr>\n",
       "    <tr>\n",
       "      <th>3</th>\n",
       "      <td>Honor</td>\n",
       "      <td>Android</td>\n",
       "      <td>25.50</td>\n",
       "      <td>1</td>\n",
       "      <td>1</td>\n",
       "      <td>13.0</td>\n",
       "      <td>8.0</td>\n",
       "      <td>64.0</td>\n",
       "      <td>6.0</td>\n",
       "      <td>7250.0</td>\n",
       "      <td>480.0</td>\n",
       "      <td>2020</td>\n",
       "      <td>345</td>\n",
       "      <td>5.135387</td>\n",
       "      <td>5.630961</td>\n",
       "    </tr>\n",
       "    <tr>\n",
       "      <th>4</th>\n",
       "      <td>Honor</td>\n",
       "      <td>Android</td>\n",
       "      <td>15.32</td>\n",
       "      <td>1</td>\n",
       "      <td>0</td>\n",
       "      <td>13.0</td>\n",
       "      <td>8.0</td>\n",
       "      <td>64.0</td>\n",
       "      <td>3.0</td>\n",
       "      <td>5000.0</td>\n",
       "      <td>185.0</td>\n",
       "      <td>2020</td>\n",
       "      <td>293</td>\n",
       "      <td>4.389995</td>\n",
       "      <td>4.947837</td>\n",
       "    </tr>\n",
       "  </tbody>\n",
       "</table>\n",
       "</div>"
      ],
      "text/plain": [
       "  device_brand       os  screen_size  4g  5g  rear_camera_mp  front_camera_mp  \\\n",
       "0        Honor  Android        14.50   1   0            13.0              5.0   \n",
       "1        Honor  Android        17.30   1   1            13.0             16.0   \n",
       "2        Honor  Android        16.69   1   1            13.0              8.0   \n",
       "3        Honor  Android        25.50   1   1            13.0              8.0   \n",
       "4        Honor  Android        15.32   1   0            13.0              8.0   \n",
       "\n",
       "   internal_memory  ram  battery  weight  release_year  days_used  \\\n",
       "0             64.0  3.0   3020.0   146.0          2020        127   \n",
       "1            128.0  8.0   4300.0   213.0          2020        325   \n",
       "2            128.0  8.0   4200.0   213.0          2020        162   \n",
       "3             64.0  6.0   7250.0   480.0          2020        345   \n",
       "4             64.0  3.0   5000.0   185.0          2020        293   \n",
       "\n",
       "   normalized_used_price  normalized_new_price  \n",
       "0               4.307572              4.715100  \n",
       "1               5.162097              5.519018  \n",
       "2               5.111084              5.884631  \n",
       "3               5.135387              5.630961  \n",
       "4               4.389995              4.947837  "
      ]
     },
     "execution_count": 35,
     "metadata": {},
     "output_type": "execute_result"
    }
   ],
   "source": [
    "df.head()"
   ]
  },
  {
   "cell_type": "code",
   "execution_count": 37,
   "id": "544a6972",
   "metadata": {},
   "outputs": [
    {
     "data": {
      "text/plain": [
       "array(['Honor', 'Others', 'HTC', 'Huawei', 'Lava', 'Lenovo', 'LG',\n",
       "       'Micromax', 'Nokia', 'Oppo', 'Samsung', 'Vivo', 'Xiaomi', 'ZTE',\n",
       "       'Apple', 'Asus', 'Acer', 'Alcatel', 'BlackBerry', 'Celkon',\n",
       "       'Coolpad', 'Gionee', 'Google', 'Karbonn', 'Meizu', 'Microsoft',\n",
       "       'Motorola', 'OnePlus', 'Panasonic', 'Realme', 'Sony', 'Spice',\n",
       "       'XOLO'], dtype=object)"
      ]
     },
     "execution_count": 37,
     "metadata": {},
     "output_type": "execute_result"
    }
   ],
   "source": [
    "df[\"device_brand\"].unique()"
   ]
  },
  {
   "cell_type": "code",
   "execution_count": 39,
   "id": "1f6b69fd",
   "metadata": {},
   "outputs": [
    {
     "data": {
      "text/plain": [
       "Others        502\n",
       "Samsung       341\n",
       "Huawei        251\n",
       "LG            201\n",
       "Lenovo        171\n",
       "ZTE           136\n",
       "Alcatel       121\n",
       "Asus          118\n",
       "Micromax      117\n",
       "Honor         116\n",
       "HTC           110\n",
       "Xiaomi        109\n",
       "Oppo          109\n",
       "Vivo          103\n",
       "Nokia          97\n",
       "Motorola       88\n",
       "Sony           79\n",
       "Gionee         56\n",
       "Acer           51\n",
       "Panasonic      45\n",
       "Meizu          44\n",
       "XOLO           42\n",
       "Apple          39\n",
       "Lava           34\n",
       "Celkon         33\n",
       "Spice          30\n",
       "Karbonn        29\n",
       "Microsoft      21\n",
       "Coolpad        19\n",
       "BlackBerry     18\n",
       "Google         13\n",
       "OnePlus         5\n",
       "Realme          5\n",
       "Name: device_brand, dtype: int64"
      ]
     },
     "execution_count": 39,
     "metadata": {},
     "output_type": "execute_result"
    }
   ],
   "source": [
    "df[\"device_brand\"].value_counts()"
   ]
  },
  {
   "cell_type": "code",
   "execution_count": 45,
   "id": "b55e14e7",
   "metadata": {},
   "outputs": [
    {
     "data": {
      "text/plain": [
       "[]"
      ]
     },
     "execution_count": 45,
     "metadata": {},
     "output_type": "execute_result"
    },
    {
     "data": {
      "image/png": "[encoded data removed]",
      "text/plain": [
       "<Figure size 1500x600 with 1 Axes>"
      ]
     },
     "metadata": {},
     "output_type": "display_data"
    }
   ],
   "source": [
    "brand = df[\"device_brand\"].value_counts().sort_values(ascending=False)[:30]\n",
    "\n",
    "fig = plt.figure(figsize=(15,6))\n",
    "sns.barplot(x=brand.index, y = brand)\n",
    "plt.xticks(rotation = 45)\n",
    "plt.plot()"
   ]
  },
  {
   "cell_type": "code",
   "execution_count": 47,
   "id": "53c88197",
   "metadata": {},
   "outputs": [
    {
     "data": {
      "text/plain": [
       "array(['Android', 'Others', 'iOS', 'Windows'], dtype=object)"
      ]
     },
     "execution_count": 47,
     "metadata": {},
     "output_type": "execute_result"
    }
   ],
   "source": [
    "df[\"os\"].unique()"
   ]
  },
  {
   "cell_type": "code",
   "execution_count": 55,
   "id": "de5eebfd",
   "metadata": {},
   "outputs": [
    {
     "data": {
      "text/plain": [
       "Android    3024\n",
       "Others      128\n",
       "Windows      65\n",
       "iOS          36\n",
       "Name: os, dtype: int64"
      ]
     },
     "execution_count": 55,
     "metadata": {},
     "output_type": "execute_result"
    }
   ],
   "source": [
    "df[\"os\"].value_counts()"
   ]
  },
  {
   "cell_type": "code",
   "execution_count": 60,
   "id": "122729ae",
   "metadata": {},
   "outputs": [
    {
     "data": {
      "image/png": "[encoded data removed]",
      "text/plain": [
       "<Figure size 640x480 with 1 Axes>"
      ]
     },
     "metadata": {},
     "output_type": "display_data"
    }
   ],
   "source": [
    "sns.countplot(x=df[\"os\"])\n",
    "plt.show()"
   ]
  },
  {
   "cell_type": "code",
   "execution_count": 63,
   "id": "6cf93959",
   "metadata": {},
   "outputs": [
    {
     "data": {
      "text/plain": [
       "2014    639\n",
       "2013    567\n",
       "2015    507\n",
       "2019    399\n",
       "2016    381\n",
       "2018    310\n",
       "2017    297\n",
       "2020    153\n",
       "Name: release_year, dtype: int64"
      ]
     },
     "execution_count": 63,
     "metadata": {},
     "output_type": "execute_result"
    }
   ],
   "source": [
    "df[\"release_year\"].value_counts()"
   ]
  },
  {
   "cell_type": "code",
   "execution_count": 64,
   "id": "b7773cec",
   "metadata": {},
   "outputs": [
    {
     "data": {
      "text/html": [
       "<div>\n",
       "<style scoped>\n",
       "    .dataframe tbody tr th:only-of-type {\n",
       "        vertical-align: middle;\n",
       "    }\n",
       "\n",
       "    .dataframe tbody tr th {\n",
       "        vertical-align: top;\n",
       "    }\n",
       "\n",
       "    .dataframe thead th {\n",
       "        text-align: right;\n",
       "    }\n",
       "</style>\n",
       "<table border=\"1\" class=\"dataframe\">\n",
       "  <thead>\n",
       "    <tr style=\"text-align: right;\">\n",
       "      <th></th>\n",
       "      <th>device_brand</th>\n",
       "      <th>os</th>\n",
       "      <th>screen_size</th>\n",
       "      <th>4g</th>\n",
       "      <th>5g</th>\n",
       "      <th>rear_camera_mp</th>\n",
       "      <th>front_camera_mp</th>\n",
       "      <th>internal_memory</th>\n",
       "      <th>ram</th>\n",
       "      <th>battery</th>\n",
       "      <th>weight</th>\n",
       "      <th>release_year</th>\n",
       "      <th>days_used</th>\n",
       "      <th>normalized_used_price</th>\n",
       "      <th>normalized_new_price</th>\n",
       "    </tr>\n",
       "  </thead>\n",
       "  <tbody>\n",
       "    <tr>\n",
       "      <th>0</th>\n",
       "      <td>Honor</td>\n",
       "      <td>Android</td>\n",
       "      <td>14.50</td>\n",
       "      <td>1</td>\n",
       "      <td>0</td>\n",
       "      <td>13.0</td>\n",
       "      <td>5.0</td>\n",
       "      <td>64.0</td>\n",
       "      <td>3.0</td>\n",
       "      <td>3020.0</td>\n",
       "      <td>146.0</td>\n",
       "      <td>2020</td>\n",
       "      <td>127</td>\n",
       "      <td>4.307572</td>\n",
       "      <td>4.715100</td>\n",
       "    </tr>\n",
       "    <tr>\n",
       "      <th>1</th>\n",
       "      <td>Honor</td>\n",
       "      <td>Android</td>\n",
       "      <td>17.30</td>\n",
       "      <td>1</td>\n",
       "      <td>1</td>\n",
       "      <td>13.0</td>\n",
       "      <td>16.0</td>\n",
       "      <td>128.0</td>\n",
       "      <td>8.0</td>\n",
       "      <td>4300.0</td>\n",
       "      <td>213.0</td>\n",
       "      <td>2020</td>\n",
       "      <td>325</td>\n",
       "      <td>5.162097</td>\n",
       "      <td>5.519018</td>\n",
       "    </tr>\n",
       "    <tr>\n",
       "      <th>2</th>\n",
       "      <td>Honor</td>\n",
       "      <td>Android</td>\n",
       "      <td>16.69</td>\n",
       "      <td>1</td>\n",
       "      <td>1</td>\n",
       "      <td>13.0</td>\n",
       "      <td>8.0</td>\n",
       "      <td>128.0</td>\n",
       "      <td>8.0</td>\n",
       "      <td>4200.0</td>\n",
       "      <td>213.0</td>\n",
       "      <td>2020</td>\n",
       "      <td>162</td>\n",
       "      <td>5.111084</td>\n",
       "      <td>5.884631</td>\n",
       "    </tr>\n",
       "    <tr>\n",
       "      <th>3</th>\n",
       "      <td>Honor</td>\n",
       "      <td>Android</td>\n",
       "      <td>25.50</td>\n",
       "      <td>1</td>\n",
       "      <td>1</td>\n",
       "      <td>13.0</td>\n",
       "      <td>8.0</td>\n",
       "      <td>64.0</td>\n",
       "      <td>6.0</td>\n",
       "      <td>7250.0</td>\n",
       "      <td>480.0</td>\n",
       "      <td>2020</td>\n",
       "      <td>345</td>\n",
       "      <td>5.135387</td>\n",
       "      <td>5.630961</td>\n",
       "    </tr>\n",
       "    <tr>\n",
       "      <th>4</th>\n",
       "      <td>Honor</td>\n",
       "      <td>Android</td>\n",
       "      <td>15.32</td>\n",
       "      <td>1</td>\n",
       "      <td>0</td>\n",
       "      <td>13.0</td>\n",
       "      <td>8.0</td>\n",
       "      <td>64.0</td>\n",
       "      <td>3.0</td>\n",
       "      <td>5000.0</td>\n",
       "      <td>185.0</td>\n",
       "      <td>2020</td>\n",
       "      <td>293</td>\n",
       "      <td>4.389995</td>\n",
       "      <td>4.947837</td>\n",
       "    </tr>\n",
       "  </tbody>\n",
       "</table>\n",
       "</div>"
      ],
      "text/plain": [
       "  device_brand       os  screen_size  4g  5g  rear_camera_mp  front_camera_mp  \\\n",
       "0        Honor  Android        14.50   1   0            13.0              5.0   \n",
       "1        Honor  Android        17.30   1   1            13.0             16.0   \n",
       "2        Honor  Android        16.69   1   1            13.0              8.0   \n",
       "3        Honor  Android        25.50   1   1            13.0              8.0   \n",
       "4        Honor  Android        15.32   1   0            13.0              8.0   \n",
       "\n",
       "   internal_memory  ram  battery  weight  release_year  days_used  \\\n",
       "0             64.0  3.0   3020.0   146.0          2020        127   \n",
       "1            128.0  8.0   4300.0   213.0          2020        325   \n",
       "2            128.0  8.0   4200.0   213.0          2020        162   \n",
       "3             64.0  6.0   7250.0   480.0          2020        345   \n",
       "4             64.0  3.0   5000.0   185.0          2020        293   \n",
       "\n",
       "   normalized_used_price  normalized_new_price  \n",
       "0               4.307572              4.715100  \n",
       "1               5.162097              5.519018  \n",
       "2               5.111084              5.884631  \n",
       "3               5.135387              5.630961  \n",
       "4               4.389995              4.947837  "
      ]
     },
     "execution_count": 64,
     "metadata": {},
     "output_type": "execute_result"
    }
   ],
   "source": [
    "df.head()"
   ]
  },
  {
   "cell_type": "code",
   "execution_count": 67,
   "id": "e0d47d65",
   "metadata": {
    "scrolled": true
   },
   "outputs": [
    {
     "data": {
      "text/plain": [
       "4.00     2755\n",
       "6.00      109\n",
       "8.00       88\n",
       "0.25       83\n",
       "2.00       70\n",
       "3.00       64\n",
       "1.00       34\n",
       "0.03       16\n",
       "0.02       14\n",
       "12.00      10\n",
       "0.50        9\n",
       "1.50        1\n",
       "Name: ram, dtype: int64"
      ]
     },
     "execution_count": 67,
     "metadata": {},
     "output_type": "execute_result"
    }
   ],
   "source": [
    "# Analysis on Ram\n",
    "df[\"ram\"].value_counts()"
   ]
  },
  {
   "cell_type": "code",
   "execution_count": 75,
   "id": "e5accc80",
   "metadata": {},
   "outputs": [
    {
     "data": {
      "text/plain": [
       "<AxesSubplot: ylabel='count'>"
      ]
     },
     "execution_count": 75,
     "metadata": {},
     "output_type": "execute_result"
    },
    {
     "data": {
      "image/png": "[encoded data removed]",
      "text/plain": [
       "<Figure size 640x480 with 1 Axes>"
      ]
     },
     "metadata": {},
     "output_type": "display_data"
    }
   ],
   "source": [
    "sns.countplot(df[\"ram\"])"
   ]
  },
  {
   "cell_type": "code",
   "execution_count": 81,
   "id": "115fec7a",
   "metadata": {},
   "outputs": [
    {
     "name": "stdout",
     "output_type": "stream",
     "text": [
      "<class 'int'>\n"
     ]
    }
   ],
   "source": [
    "four_G = \"Yes\"\n",
    "four_G = [1 if four_G == \"Yes\" else 0]\n",
    "print(type(four_G[0]))"
   ]
  },
  {
   "cell_type": "code",
   "execution_count": null,
   "id": "4f7a4a27",
   "metadata": {},
   "outputs": [],
   "source": []
  }
 ],
 "metadata": {
  "kernelspec": {
   "display_name": "Python 3 (ipykernel)",
   "language": "python",
   "name": "python3"
  },
  "language_info": {
   "codemirror_mode": {
    "name": "ipython",
    "version": 3
   },
   "file_extension": ".py",
   "mimetype": "text/x-python",
   "name": "python",
   "nbconvert_exporter": "python",
   "pygments_lexer": "ipython3",
   "version": "3.9.16"
  }
 },
 "nbformat": 4,
 "nbformat_minor": 5
}
